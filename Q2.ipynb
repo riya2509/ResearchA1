{
 "cells": [
  {
   "cell_type": "markdown",
   "id": "abab491e",
   "metadata": {},
   "source": [
    "### Rishi has a total of 590 as currency notes in the denominations of 50, 20 and 10. The ratio of the number of 50 notes and 20 notes is 3:5. If she has a total of 25 notes, how many notes of each denomination she has?"
   ]
  },
  {
   "cell_type": "code",
   "execution_count": 1,
   "id": "1b35965f",
   "metadata": {},
   "outputs": [
    {
     "name": "stdout",
     "output_type": "stream",
     "text": [
      "Enter Total amount: 590\n"
     ]
    }
   ],
   "source": [
    "total_amount = int(input('Enter Total amount: '))"
   ]
  },
  {
   "cell_type": "code",
   "execution_count": 2,
   "id": "2a44e9eb",
   "metadata": {},
   "outputs": [
    {
     "name": "stdout",
     "output_type": "stream",
     "text": [
      "Ratio of 50 notes >> 3\n",
      "Ratio of 20 notes >> 5\n"
     ]
    }
   ],
   "source": [
    "fifty = int(input('Ratio of 50 notes >> '))\n",
    "twenty = int(input('Ratio of 20 notes >> '))"
   ]
  },
  {
   "cell_type": "code",
   "execution_count": 3,
   "id": "dd5dbb99",
   "metadata": {},
   "outputs": [
    {
     "name": "stdout",
     "output_type": "stream",
     "text": [
      "Enter total notes you have >> 25\n"
     ]
    }
   ],
   "source": [
    "total_notes = int(input('Enter total notes you have >> '))"
   ]
  },
  {
   "cell_type": "code",
   "execution_count": 4,
   "id": "e0008018",
   "metadata": {},
   "outputs": [
    {
     "data": {
      "text/plain": [
       "2.0"
      ]
     },
     "execution_count": 4,
     "metadata": {},
     "output_type": "execute_result"
    }
   ],
   "source": [
    "value = (total_amount - 10*total_notes)/(-((fifty+twenty)*10)+(fifty*50)+(twenty*20))\n",
    "value"
   ]
  },
  {
   "cell_type": "code",
   "execution_count": 5,
   "id": "e498c057",
   "metadata": {},
   "outputs": [
    {
     "name": "stdout",
     "output_type": "stream",
     "text": [
      "10 notes =  90.0\n",
      "20 notes =  200.0\n",
      "50 notes =  300.0\n"
     ]
    }
   ],
   "source": [
    "print('10 notes = ', 10 * (total_notes - (value*(fifty+twenty))))\n",
    "print('20 notes = ', value*twenty*20)\n",
    "print('50 notes = ', value*fifty*50)"
   ]
  },
  {
   "cell_type": "code",
   "execution_count": null,
   "id": "afb161fb",
   "metadata": {},
   "outputs": [],
   "source": []
  },
  {
   "cell_type": "code",
   "execution_count": null,
   "id": "dc05265c",
   "metadata": {},
   "outputs": [],
   "source": []
  },
  {
   "cell_type": "code",
   "execution_count": null,
   "id": "a9a1b195",
   "metadata": {},
   "outputs": [],
   "source": []
  }
 ],
 "metadata": {
  "kernelspec": {
   "display_name": "Python 3 (ipykernel)",
   "language": "python",
   "name": "python3"
  },
  "language_info": {
   "codemirror_mode": {
    "name": "ipython",
    "version": 3
   },
   "file_extension": ".py",
   "mimetype": "text/x-python",
   "name": "python",
   "nbconvert_exporter": "python",
   "pygments_lexer": "ipython3",
   "version": "3.9.12"
  }
 },
 "nbformat": 4,
 "nbformat_minor": 5
}
