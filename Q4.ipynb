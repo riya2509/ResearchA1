{
 "cells": [
  {
   "cell_type": "markdown",
   "id": "a2d5d029",
   "metadata": {},
   "source": [
    "##  The sum of three consecutive multiples of 11 is 363. Find these multiples"
   ]
  },
  {
   "cell_type": "markdown",
   "id": "a4145017",
   "metadata": {},
   "source": [
    "X + (X+11) + (X+22) = 363\n",
    "3X + 33 = 363\n",
    "3X = 363 -33"
   ]
  },
  {
   "cell_type": "code",
   "execution_count": 1,
   "id": "91bc90fc",
   "metadata": {},
   "outputs": [],
   "source": [
    "X = (363 - 33)/3"
   ]
  },
  {
   "cell_type": "code",
   "execution_count": 2,
   "id": "11f576cd",
   "metadata": {},
   "outputs": [
    {
     "data": {
      "text/plain": [
       "110.0"
      ]
     },
     "execution_count": 2,
     "metadata": {},
     "output_type": "execute_result"
    }
   ],
   "source": [
    "X"
   ]
  },
  {
   "cell_type": "code",
   "execution_count": 3,
   "id": "c5f8e8f6",
   "metadata": {},
   "outputs": [
    {
     "name": "stdout",
     "output_type": "stream",
     "text": [
      "Enter sum of three consecutive numbers363\n"
     ]
    }
   ],
   "source": [
    "sum_value = int(input('Enter sum of three consecutive numbers'))"
   ]
  },
  {
   "cell_type": "code",
   "execution_count": 4,
   "id": "71ad6f40",
   "metadata": {},
   "outputs": [
    {
     "data": {
      "text/plain": [
       "110.0"
      ]
     },
     "execution_count": 4,
     "metadata": {},
     "output_type": "execute_result"
    }
   ],
   "source": [
    "value = (sum_value -33)/3\n",
    "value"
   ]
  },
  {
   "cell_type": "code",
   "execution_count": 6,
   "id": "f250fb8c",
   "metadata": {},
   "outputs": [
    {
     "name": "stdout",
     "output_type": "stream",
     "text": [
      "First value =  110.0\n",
      "Sec value =  121.0\n",
      "First value =  132.0\n"
     ]
    }
   ],
   "source": [
    "print('First value = ', value)\n",
    "print('Sec value = ', value+11)\n",
    "print('First value = ', value+22)"
   ]
  },
  {
   "cell_type": "code",
   "execution_count": null,
   "id": "8e6acb46",
   "metadata": {},
   "outputs": [],
   "source": []
  }
 ],
 "metadata": {
  "kernelspec": {
   "display_name": "Python 3 (ipykernel)",
   "language": "python",
   "name": "python3"
  },
  "language_info": {
   "codemirror_mode": {
    "name": "ipython",
    "version": 3
   },
   "file_extension": ".py",
   "mimetype": "text/x-python",
   "name": "python",
   "nbconvert_exporter": "python",
   "pygments_lexer": "ipython3",
   "version": "3.9.12"
  }
 },
 "nbformat": 4,
 "nbformat_minor": 5
}
