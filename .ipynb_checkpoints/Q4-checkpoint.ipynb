{
 "cells": [
  {
   "cell_type": "markdown",
   "id": "2c9713a3",
   "metadata": {},
   "source": [
    "##The sum of three consecutive multiples of 11 is 363. Find these multiples"
   ]
  },
  {
   "cell_type": "markdown",
   "id": "1621733c",
   "metadata": {},
   "source": [
    "x=int(x)\n",
    "first_mult=x\n",
    "second_mult=x+11\n",
    "third_mult=x+22"
   ]
  },
  {
   "cell_type": "markdown",
   "id": "7c817096",
   "metadata": {},
   "source": [
    "sum=363"
   ]
  },
  {
   "cell_type": "markdown",
   "id": "8ef81155",
   "metadata": {},
   "source": [
    "sum=first_mult+second_mult+third_mult"
   ]
  },
  {
   "cell_type": "markdown",
   "id": "b39e3ede",
   "metadata": {},
   "source": [
    "print(x)"
   ]
  },
  {
   "cell_type": "markdown",
   "id": "ce382a99",
   "metadata": {},
   "source": [
    "x = input(\"Please input an integer : \")\n",
    "x = int(x)\n",
    "item = range(1, x + 11)\n",
    "for i in item:\n",
    "    sum = 0\n",
    "    for j in range(1, i + 1):\n",
    "        sum = sum + j\n",
    "    print(str(sum))"
   ]
  },
  {
   "cell_type": "code",
   "execution_count": null,
   "id": "0989d93f",
   "metadata": {},
   "outputs": [],
   "source": []
  }
 ],
 "metadata": {
  "kernelspec": {
   "display_name": "Python 3 (ipykernel)",
   "language": "python",
   "name": "python3"
  },
  "language_info": {
   "codemirror_mode": {
    "name": "ipython",
    "version": 3
   },
   "file_extension": ".py",
   "mimetype": "text/x-python",
   "name": "python",
   "nbconvert_exporter": "python",
   "pygments_lexer": "ipython3",
   "version": "3.9.12"
  }
 },
 "nbformat": 4,
 "nbformat_minor": 5
}
