{
 "cells": [
  {
   "cell_type": "markdown",
   "id": "e0b70687",
   "metadata": {},
   "source": [
    "##  Find the approximate change in the value of 1/x^2 when x changes from 2 to 100"
   ]
  },
  {
   "cell_type": "code",
   "execution_count": 1,
   "id": "b9a5bf96",
   "metadata": {},
   "outputs": [],
   "source": [
    "import sympy as sym"
   ]
  },
  {
   "cell_type": "code",
   "execution_count": 2,
   "id": "91c24348",
   "metadata": {},
   "outputs": [],
   "source": [
    "x=sym.Symbol ('x')"
   ]
  },
  {
   "cell_type": "code",
   "execution_count": 3,
   "id": "00c6d1a8",
   "metadata": {},
   "outputs": [],
   "source": [
    "expr=sym.diff(1/x**2)"
   ]
  },
  {
   "cell_type": "code",
   "execution_count": 4,
   "id": "84f63415",
   "metadata": {},
   "outputs": [
    {
     "name": "stdout",
     "output_type": "stream",
     "text": [
      "-2/x**3\n"
     ]
    }
   ],
   "source": [
    "print(expr)"
   ]
  },
  {
   "cell_type": "code",
   "execution_count": 5,
   "id": "4d5c72c5",
   "metadata": {},
   "outputs": [
    {
     "name": "stdout",
     "output_type": "stream",
     "text": [
      "Enter the starting change range2\n",
      "Enter the ending change range100\n"
     ]
    }
   ],
   "source": [
    "change_start=(int(input(\"Enter the starting change range\")))\n",
    "change_end=(int(input(\"Enter the ending change range\")))"
   ]
  },
  {
   "cell_type": "code",
   "execution_count": 6,
   "id": "f3ca7666",
   "metadata": {},
   "outputs": [
    {
     "name": "stdout",
     "output_type": "stream",
     "text": [
      "-1/4\n"
     ]
    }
   ],
   "source": [
    "D=expr.subs(x,change_start)\n",
    "print(D)"
   ]
  },
  {
   "cell_type": "markdown",
   "id": "23ccc74d",
   "metadata": {},
   "source": [
    "dx=100-2"
   ]
  },
  {
   "cell_type": "code",
   "execution_count": 7,
   "id": "abd0be12",
   "metadata": {},
   "outputs": [],
   "source": [
    "dx=change_end-change_start"
   ]
  },
  {
   "cell_type": "code",
   "execution_count": 8,
   "id": "7d83d560",
   "metadata": {},
   "outputs": [
    {
     "name": "stdout",
     "output_type": "stream",
     "text": [
      "98\n"
     ]
    }
   ],
   "source": [
    "print(dx)"
   ]
  },
  {
   "cell_type": "code",
   "execution_count": 9,
   "id": "9bce1104",
   "metadata": {},
   "outputs": [],
   "source": [
    "ans=D*dx"
   ]
  },
  {
   "cell_type": "code",
   "execution_count": 10,
   "id": "da598897",
   "metadata": {},
   "outputs": [
    {
     "name": "stdout",
     "output_type": "stream",
     "text": [
      "y decreases by -24.5\n"
     ]
    }
   ],
   "source": [
    "print(f\"y decreases by {float(ans)}\")"
   ]
  },
  {
   "cell_type": "code",
   "execution_count": null,
   "id": "24201e0d",
   "metadata": {},
   "outputs": [],
   "source": []
  }
 ],
 "metadata": {
  "kernelspec": {
   "display_name": "Python 3 (ipykernel)",
   "language": "python",
   "name": "python3"
  },
  "language_info": {
   "codemirror_mode": {
    "name": "ipython",
    "version": 3
   },
   "file_extension": ".py",
   "mimetype": "text/x-python",
   "name": "python",
   "nbconvert_exporter": "python",
   "pygments_lexer": "ipython3",
   "version": "3.9.12"
  }
 },
 "nbformat": 4,
 "nbformat_minor": 5
}
