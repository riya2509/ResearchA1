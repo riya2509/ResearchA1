{
 "cells": [
  {
   "cell_type": "code",
   "execution_count": 1,
   "id": "fed77e97",
   "metadata": {},
   "outputs": [],
   "source": [
    "x=10\n",
    "y=0\n",
    "num=5"
   ]
  },
  {
   "cell_type": "code",
   "execution_count": null,
   "id": "b44ac395",
   "metadata": {},
   "outputs": [],
   "source": [
    "for x>y\n"
   ]
  }
 ],
 "metadata": {
  "kernelspec": {
   "display_name": "Python 3 (ipykernel)",
   "language": "python",
   "name": "python3"
  },
  "language_info": {
   "codemirror_mode": {
    "name": "ipython",
    "version": 3
   },
   "file_extension": ".py",
   "mimetype": "text/x-python",
   "name": "python",
   "nbconvert_exporter": "python",
   "pygments_lexer": "ipython3",
   "version": "3.9.12"
  }
 },
 "nbformat": 4,
 "nbformat_minor": 5
}
