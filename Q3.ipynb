{
 "cells": [
  {
   "cell_type": "markdown",
   "id": "824e1877",
   "metadata": {},
   "source": [
    "## The organizers of an essay competition decide that a winner in the competition gets a prize of ` 100 and a participant who does not win gets a prize of ` 25. The total prize money distributed is ` 3,000. Find the number of winners, if the total number of  participants is 63."
   ]
  },
  {
   "cell_type": "markdown",
   "id": "baca5cde",
   "metadata": {},
   "source": [
    "## x winners"
   ]
  },
  {
   "cell_type": "markdown",
   "id": "8f0c0f40",
   "metadata": {},
   "source": [
    "## the number of participants who does not win (63−x).\n",
    "\n",
    "Prize money given to x winners = Rs. (100×x)= Rs. 100x\n",
    "and prize money given to (63−x) participants = Rs. 25(63−x)"
   ]
  },
  {
   "cell_type": "code",
   "execution_count": 2,
   "id": "cec0e5ae",
   "metadata": {},
   "outputs": [
    {
     "name": "stdout",
     "output_type": "stream",
     "text": [
      "Enter the total prize money distributed3000\n"
     ]
    }
   ],
   "source": [
    "Total_prizeMoney=input(\"Enter the total prize money distributed\")\n",
    "\n"
   ]
  },
  {
   "cell_type": "markdown",
   "id": "c061ea76",
   "metadata": {},
   "source": [
    "### 100x+25(63−x)=3000 "
   ]
  },
  {
   "cell_type": "markdown",
   "id": "7ed7cf8a",
   "metadata": {},
   "source": [
    "### 4x+(63−x)=120  "
   ]
  },
  {
   "cell_type": "markdown",
   "id": "9e3b9f06",
   "metadata": {},
   "source": [
    "### 3x+63=120"
   ]
  },
  {
   "cell_type": "code",
   "execution_count": null,
   "id": "8397f38f",
   "metadata": {},
   "outputs": [],
   "source": []
  }
 ],
 "metadata": {
  "kernelspec": {
   "display_name": "Python 3 (ipykernel)",
   "language": "python",
   "name": "python3"
  },
  "language_info": {
   "codemirror_mode": {
    "name": "ipython",
    "version": 3
   },
   "file_extension": ".py",
   "mimetype": "text/x-python",
   "name": "python",
   "nbconvert_exporter": "python",
   "pygments_lexer": "ipython3",
   "version": "3.9.12"
  }
 },
 "nbformat": 4,
 "nbformat_minor": 5
}
