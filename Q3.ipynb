{
 "cells": [
  {
   "cell_type": "markdown",
   "id": "824e1877",
   "metadata": {},
   "source": [
    "## The organizers of an essay competition decide that a winner in the competition gets a prize of  100 and a participant who does not win gets a prize of  25. The total prize money distributed is  3,000. Find the number of winners, if the total number of  participants is 63."
   ]
  },
  {
   "cell_type": "markdown",
   "id": "baca5cde",
   "metadata": {},
   "source": [
    "## x winners"
   ]
  },
  {
   "cell_type": "markdown",
   "id": "8f0c0f40",
   "metadata": {},
   "source": [
    "## the number of participants who does not win (63−x).\n",
    "\n",
    "Prize money given to x winners = Rs. (100×x)= Rs. 100x\n",
    "and prize money given to (63−x) participants = Rs. 25(63−x)"
   ]
  },
  {
   "cell_type": "code",
   "execution_count": 1,
   "id": "f875b5da",
   "metadata": {},
   "outputs": [],
   "source": [
    "WINNER_PRIZE = 100\n",
    "LOSER_PRIZE = 25"
   ]
  },
  {
   "cell_type": "code",
   "execution_count": 2,
   "id": "cec0e5ae",
   "metadata": {},
   "outputs": [
    {
     "name": "stdout",
     "output_type": "stream",
     "text": [
      "Enter the total prize money distributed >> 3000\n"
     ]
    }
   ],
   "source": [
    "total_prize_money=int(input(\"Enter the total prize money distributed >> \"))"
   ]
  },
  {
   "cell_type": "code",
   "execution_count": 3,
   "id": "931ae762",
   "metadata": {},
   "outputs": [
    {
     "name": "stdout",
     "output_type": "stream",
     "text": [
      "Enter the number of participant >> 63\n"
     ]
    }
   ],
   "source": [
    "no_of_part=int(input(\"Enter the number of participant >> \"))"
   ]
  },
  {
   "cell_type": "markdown",
   "id": "c061ea76",
   "metadata": {},
   "source": [
    "### 100x+25(63−x)=3000 "
   ]
  },
  {
   "cell_type": "markdown",
   "id": "7ed7cf8a",
   "metadata": {},
   "source": [
    "### 4x+(63−x)=120  "
   ]
  },
  {
   "cell_type": "markdown",
   "id": "9e3b9f06",
   "metadata": {},
   "source": [
    "### 3x+63=120"
   ]
  },
  {
   "cell_type": "markdown",
   "id": "9ba6977c",
   "metadata": {},
   "source": [
    "(WINNER_PRIZE*X) + LOSER_PRIZE*(no_of_part-X) = total_prize_money"
   ]
  },
  {
   "cell_type": "markdown",
   "id": "de8c70e2",
   "metadata": {},
   "source": [
    "WINNER_PRIZE*X  + (LOSER_PRIZE * no_of_part) - (LOSER_PRIZE*X) = total_prize_money"
   ]
  },
  {
   "cell_type": "markdown",
   "id": "4d868457",
   "metadata": {},
   "source": [
    "X(WINNER_PRIZE - LOSER_PRIZE ) = total_prize_money - (LOSER_PRIZE * no_of_part)"
   ]
  },
  {
   "cell_type": "code",
   "execution_count": 5,
   "id": "71f8c3f4",
   "metadata": {},
   "outputs": [
    {
     "data": {
      "text/plain": [
       "19.0"
      ]
     },
     "execution_count": 5,
     "metadata": {},
     "output_type": "execute_result"
    }
   ],
   "source": [
    "value = (total_prize_money - (LOSER_PRIZE * no_of_part))/(WINNER_PRIZE - LOSER_PRIZE )\n",
    "value"
   ]
  },
  {
   "cell_type": "code",
   "execution_count": null,
   "id": "56bf4eb6",
   "metadata": {},
   "outputs": [],
   "source": [
    "\n"
   ]
  }
 ],
 "metadata": {
  "kernelspec": {
   "display_name": "Python 3 (ipykernel)",
   "language": "python",
   "name": "python3"
  },
  "language_info": {
   "codemirror_mode": {
    "name": "ipython",
    "version": 3
   },
   "file_extension": ".py",
   "mimetype": "text/x-python",
   "name": "python",
   "nbconvert_exporter": "python",
   "pygments_lexer": "ipython3",
   "version": "3.9.12"
  }
 },
 "nbformat": 4,
 "nbformat_minor": 5
}
