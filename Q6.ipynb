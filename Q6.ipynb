{
 "cells": [
  {
   "cell_type": "markdown",
   "id": "9ec98b32",
   "metadata": {},
   "source": [
    "##  5x-2(2x-7)=2(3x-1)+7/2"
   ]
  },
  {
   "cell_type": "code",
   "execution_count": 3,
   "id": "d44aa191",
   "metadata": {},
   "outputs": [],
   "source": [
    "def solve_linear(equation,var='x'):\n",
    "    expression = equation.replace(\"=\",\"-(\")+\")\"\n",
    "    grouped = eval(expression.replace(var,'1j'))\n",
    "    return -grouped.real/grouped.imag\n",
    "    "
   ]
  },
  {
   "cell_type": "code",
   "execution_count": 5,
   "id": "399fc2d4",
   "metadata": {},
   "outputs": [
    {
     "data": {
      "text/plain": [
       "2.5"
      ]
     },
     "execution_count": 5,
     "metadata": {},
     "output_type": "execute_result"
    }
   ],
   "source": [
    "solve_linear(\"5*x-2*(2*x-7)=2*(3*x-1)+7/2\")"
   ]
  },
  {
   "cell_type": "code",
   "execution_count": null,
   "id": "c60c42b5",
   "metadata": {},
   "outputs": [],
   "source": []
  }
 ],
 "metadata": {
  "kernelspec": {
   "display_name": "Python 3 (ipykernel)",
   "language": "python",
   "name": "python3"
  },
  "language_info": {
   "codemirror_mode": {
    "name": "ipython",
    "version": 3
   },
   "file_extension": ".py",
   "mimetype": "text/x-python",
   "name": "python",
   "nbconvert_exporter": "python",
   "pygments_lexer": "ipython3",
   "version": "3.9.12"
  }
 },
 "nbformat": 4,
 "nbformat_minor": 5
}
